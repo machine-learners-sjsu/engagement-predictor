{
 "cells": [
  {
   "cell_type": "markdown",
   "id": "64864e1e",
   "metadata": {},
   "source": [
    "### Importing Libraries"
   ]
  },
  {
   "cell_type": "code",
   "execution_count": 26,
   "id": "262c80f3",
   "metadata": {},
   "outputs": [],
   "source": [
    "import pandas as pd\n",
    "import json\n",
    "import glob"
   ]
  },
  {
   "cell_type": "markdown",
   "id": "419de07f",
   "metadata": {},
   "source": [
    "#### Getting Videos Id's from First Dataset"
   ]
  },
  {
   "cell_type": "code",
   "execution_count": 27,
   "id": "25d5faee",
   "metadata": {},
   "outputs": [],
   "source": [
    "all_files = glob.glob('/Users/aryanjadon/Desktop/Spring-Semester-Projects/Dataset/Trending-YouTube-Video-Statistics/*.csv')"
   ]
  },
  {
   "cell_type": "code",
   "execution_count": 28,
   "id": "c94b4904",
   "metadata": {},
   "outputs": [
    {
     "data": {
      "text/plain": [
       "['/Users/aryanjadon/Desktop/Spring-Semester-Projects/Dataset/Trending-YouTube-Video-Statistics/MXvideos.csv',\n",
       " '/Users/aryanjadon/Desktop/Spring-Semester-Projects/Dataset/Trending-YouTube-Video-Statistics/INvideos.csv',\n",
       " '/Users/aryanjadon/Desktop/Spring-Semester-Projects/Dataset/Trending-YouTube-Video-Statistics/DEvideos.csv',\n",
       " '/Users/aryanjadon/Desktop/Spring-Semester-Projects/Dataset/Trending-YouTube-Video-Statistics/JPvideos.csv',\n",
       " '/Users/aryanjadon/Desktop/Spring-Semester-Projects/Dataset/Trending-YouTube-Video-Statistics/KRvideos.csv',\n",
       " '/Users/aryanjadon/Desktop/Spring-Semester-Projects/Dataset/Trending-YouTube-Video-Statistics/CAvideos.csv',\n",
       " '/Users/aryanjadon/Desktop/Spring-Semester-Projects/Dataset/Trending-YouTube-Video-Statistics/RUvideos.csv',\n",
       " '/Users/aryanjadon/Desktop/Spring-Semester-Projects/Dataset/Trending-YouTube-Video-Statistics/FRvideos.csv',\n",
       " '/Users/aryanjadon/Desktop/Spring-Semester-Projects/Dataset/Trending-YouTube-Video-Statistics/USvideos.csv',\n",
       " '/Users/aryanjadon/Desktop/Spring-Semester-Projects/Dataset/Trending-YouTube-Video-Statistics/GBvideos.csv']"
      ]
     },
     "execution_count": 28,
     "metadata": {},
     "output_type": "execute_result"
    }
   ],
   "source": [
    "all_files"
   ]
  },
  {
   "cell_type": "markdown",
   "id": "617bbf0a",
   "metadata": {},
   "source": [
    "### Taking Only US and Canada Videos"
   ]
  },
  {
   "cell_type": "code",
   "execution_count": 29,
   "id": "1c9eefab",
   "metadata": {},
   "outputs": [],
   "source": [
    "relevant_paths = [\n",
    "    '/Users/aryanjadon/Desktop/Spring-Semester-Projects/Dataset/Trending-YouTube-Video-Statistics/USvideos.csv',\n",
    "    '/Users/aryanjadon/Desktop/Spring-Semester-Projects/Dataset/Trending-YouTube-Video-Statistics/CAvideos.csv'\n",
    "]"
   ]
  },
  {
   "cell_type": "code",
   "execution_count": 30,
   "id": "a2cc085a",
   "metadata": {},
   "outputs": [],
   "source": [
    "all_video_ids = []\n",
    "\n",
    "for file_path in relevant_paths:\n",
    "    dataset_file = pd.read_csv(file_path,encoding='latin-1')\n",
    "    videos_id = list(dataset_file[\"video_id\"])\n",
    "    all_video_ids.extend(videos_id)\n",
    "    "
   ]
  },
  {
   "cell_type": "code",
   "execution_count": 31,
   "id": "e96f2d8f",
   "metadata": {},
   "outputs": [
    {
     "data": {
      "text/plain": [
       "81830"
      ]
     },
     "execution_count": 31,
     "metadata": {},
     "output_type": "execute_result"
    }
   ],
   "source": [
    "len(all_video_ids)"
   ]
  },
  {
   "cell_type": "markdown",
   "id": "b8a0a4ae",
   "metadata": {},
   "source": [
    "#### Getting Videos Id's from Second Dataset"
   ]
  },
  {
   "cell_type": "code",
   "execution_count": 32,
   "id": "79a559cf",
   "metadata": {},
   "outputs": [],
   "source": [
    "second_dataset = pd.read_json(\"/Users/aryanjadon/Desktop/Spring-Semester-Projects/Dataset/Video-Statistics/train_dataset.json\")"
   ]
  },
  {
   "cell_type": "code",
   "execution_count": 36,
   "id": "4d468e77",
   "metadata": {},
   "outputs": [
    {
     "data": {
      "text/html": [
       "<div>\n",
       "<style scoped>\n",
       "    .dataframe tbody tr th:only-of-type {\n",
       "        vertical-align: middle;\n",
       "    }\n",
       "\n",
       "    .dataframe tbody tr th {\n",
       "        vertical-align: top;\n",
       "    }\n",
       "\n",
       "    .dataframe thead th {\n",
       "        text-align: right;\n",
       "    }\n",
       "</style>\n",
       "<table border=\"1\" class=\"dataframe\">\n",
       "  <thead>\n",
       "    <tr style=\"text-align: right;\">\n",
       "      <th></th>\n",
       "      <th>video_id</th>\n",
       "      <th>title</th>\n",
       "      <th>publishedAt</th>\n",
       "      <th>channelId</th>\n",
       "      <th>channelTitle</th>\n",
       "      <th>categoryId</th>\n",
       "      <th>trending_date</th>\n",
       "      <th>tags</th>\n",
       "      <th>view_count</th>\n",
       "      <th>likes</th>\n",
       "      <th>...</th>\n",
       "      <th>comment_count</th>\n",
       "      <th>thumbnail_link</th>\n",
       "      <th>comments_disabled</th>\n",
       "      <th>ratings_disabled</th>\n",
       "      <th>description</th>\n",
       "      <th>id</th>\n",
       "      <th>duration_seconds</th>\n",
       "      <th>has_thumbnail</th>\n",
       "      <th>target</th>\n",
       "      <th>cateogory_name</th>\n",
       "    </tr>\n",
       "  </thead>\n",
       "  <tbody>\n",
       "    <tr>\n",
       "      <th>0</th>\n",
       "      <td>3C66w5Z0ixs</td>\n",
       "      <td>I ASKED HER TO BE MY GIRLFRIEND...</td>\n",
       "      <td>1597173614000</td>\n",
       "      <td>UCvtRTOMP2TqYqu51xNrqAzg</td>\n",
       "      <td>Brawadis</td>\n",
       "      <td>22</td>\n",
       "      <td>1597190400000</td>\n",
       "      <td>brawadis,prank,basketball,skits,ghost,funny vi...</td>\n",
       "      <td>1514614</td>\n",
       "      <td>156908</td>\n",
       "      <td>...</td>\n",
       "      <td>35313</td>\n",
       "      <td>https://i.ytimg.com/vi/3C66w5Z0ixs/default.jpg</td>\n",
       "      <td>False</td>\n",
       "      <td>False</td>\n",
       "      <td>SUBSCRIBE to BRAWADIS ▶ http://bit.ly/Subscrib...</td>\n",
       "      <td>3C66w5Z0ixs_2020-08-12</td>\n",
       "      <td>NaN</td>\n",
       "      <td>True</td>\n",
       "      <td>0.103596</td>\n",
       "      <td>People &amp; Blogs</td>\n",
       "    </tr>\n",
       "    <tr>\n",
       "      <th>1</th>\n",
       "      <td>M9Pmf9AB4Mo</td>\n",
       "      <td>Apex Legends | Stories from the Outlands – “Th...</td>\n",
       "      <td>1597165210000</td>\n",
       "      <td>UC0ZV6M2THA81QT9hrVWJG3A</td>\n",
       "      <td>Apex Legends</td>\n",
       "      <td>20</td>\n",
       "      <td>1597190400000</td>\n",
       "      <td>Apex Legends,Apex Legends characters,new Apex ...</td>\n",
       "      <td>2381688</td>\n",
       "      <td>146739</td>\n",
       "      <td>...</td>\n",
       "      <td>16549</td>\n",
       "      <td>https://i.ytimg.com/vi/M9Pmf9AB4Mo/default.jpg</td>\n",
       "      <td>False</td>\n",
       "      <td>False</td>\n",
       "      <td>While running her own modding shop, Ramya Pare...</td>\n",
       "      <td>M9Pmf9AB4Mo_2020-08-12</td>\n",
       "      <td>NaN</td>\n",
       "      <td>True</td>\n",
       "      <td>0.061611</td>\n",
       "      <td>Gaming</td>\n",
       "    </tr>\n",
       "    <tr>\n",
       "      <th>2</th>\n",
       "      <td>J78aPJ3VyNs</td>\n",
       "      <td>I left youtube for a month and THIS is what ha...</td>\n",
       "      <td>1597163646000</td>\n",
       "      <td>UCYzPXprvl5Y-Sf0g4vX-m6g</td>\n",
       "      <td>jacksepticeye</td>\n",
       "      <td>24</td>\n",
       "      <td>1597190400000</td>\n",
       "      <td>jacksepticeye,funny,funny meme,memes,jacksepti...</td>\n",
       "      <td>2038853</td>\n",
       "      <td>353787</td>\n",
       "      <td>...</td>\n",
       "      <td>40221</td>\n",
       "      <td>https://i.ytimg.com/vi/J78aPJ3VyNs/default.jpg</td>\n",
       "      <td>False</td>\n",
       "      <td>False</td>\n",
       "      <td>I left youtube for a month and this is what ha...</td>\n",
       "      <td>J78aPJ3VyNs_2020-08-12</td>\n",
       "      <td>NaN</td>\n",
       "      <td>True</td>\n",
       "      <td>0.173523</td>\n",
       "      <td>Entertainment</td>\n",
       "    </tr>\n",
       "    <tr>\n",
       "      <th>3</th>\n",
       "      <td>kXLn3HkpjaA</td>\n",
       "      <td>XXL 2020 Freshman Class Revealed - Official An...</td>\n",
       "      <td>1597163935000</td>\n",
       "      <td>UCbg_UMjlHJg_19SZckaKajg</td>\n",
       "      <td>XXL</td>\n",
       "      <td>10</td>\n",
       "      <td>1597190400000</td>\n",
       "      <td>xxl freshman,xxl freshmen,2020 xxl freshman,20...</td>\n",
       "      <td>496771</td>\n",
       "      <td>23251</td>\n",
       "      <td>...</td>\n",
       "      <td>7647</td>\n",
       "      <td>https://i.ytimg.com/vi/kXLn3HkpjaA/default.jpg</td>\n",
       "      <td>False</td>\n",
       "      <td>False</td>\n",
       "      <td>Subscribe to XXL → http://bit.ly/subscribe-xxl...</td>\n",
       "      <td>kXLn3HkpjaA_2020-08-12</td>\n",
       "      <td>NaN</td>\n",
       "      <td>True</td>\n",
       "      <td>0.046804</td>\n",
       "      <td>Music</td>\n",
       "    </tr>\n",
       "    <tr>\n",
       "      <th>4</th>\n",
       "      <td>VIUo6yapDbc</td>\n",
       "      <td>Ultimate DIY Home Movie Theater for The LaBran...</td>\n",
       "      <td>1597158605000</td>\n",
       "      <td>UCDVPcEbVLQgLZX0Rt6jo34A</td>\n",
       "      <td>Mr. Kate</td>\n",
       "      <td>26</td>\n",
       "      <td>1597190400000</td>\n",
       "      <td>The LaBrant Family,DIY,Interior Design,Makeove...</td>\n",
       "      <td>1123889</td>\n",
       "      <td>45802</td>\n",
       "      <td>...</td>\n",
       "      <td>2196</td>\n",
       "      <td>https://i.ytimg.com/vi/VIUo6yapDbc/default.jpg</td>\n",
       "      <td>False</td>\n",
       "      <td>False</td>\n",
       "      <td>Transforming The LaBrant Family's empty white ...</td>\n",
       "      <td>VIUo6yapDbc_2020-08-12</td>\n",
       "      <td>NaN</td>\n",
       "      <td>True</td>\n",
       "      <td>0.040753</td>\n",
       "      <td>How to &amp; Style</td>\n",
       "    </tr>\n",
       "  </tbody>\n",
       "</table>\n",
       "<p>5 rows × 21 columns</p>\n",
       "</div>"
      ],
      "text/plain": [
       "      video_id                                              title  \\\n",
       "0  3C66w5Z0ixs                 I ASKED HER TO BE MY GIRLFRIEND...   \n",
       "1  M9Pmf9AB4Mo  Apex Legends | Stories from the Outlands – “Th...   \n",
       "2  J78aPJ3VyNs  I left youtube for a month and THIS is what ha...   \n",
       "3  kXLn3HkpjaA  XXL 2020 Freshman Class Revealed - Official An...   \n",
       "4  VIUo6yapDbc  Ultimate DIY Home Movie Theater for The LaBran...   \n",
       "\n",
       "     publishedAt                 channelId   channelTitle  categoryId  \\\n",
       "0  1597173614000  UCvtRTOMP2TqYqu51xNrqAzg       Brawadis          22   \n",
       "1  1597165210000  UC0ZV6M2THA81QT9hrVWJG3A   Apex Legends          20   \n",
       "2  1597163646000  UCYzPXprvl5Y-Sf0g4vX-m6g  jacksepticeye          24   \n",
       "3  1597163935000  UCbg_UMjlHJg_19SZckaKajg            XXL          10   \n",
       "4  1597158605000  UCDVPcEbVLQgLZX0Rt6jo34A       Mr. Kate          26   \n",
       "\n",
       "   trending_date                                               tags  \\\n",
       "0  1597190400000  brawadis,prank,basketball,skits,ghost,funny vi...   \n",
       "1  1597190400000  Apex Legends,Apex Legends characters,new Apex ...   \n",
       "2  1597190400000  jacksepticeye,funny,funny meme,memes,jacksepti...   \n",
       "3  1597190400000  xxl freshman,xxl freshmen,2020 xxl freshman,20...   \n",
       "4  1597190400000  The LaBrant Family,DIY,Interior Design,Makeove...   \n",
       "\n",
       "   view_count   likes  ...  comment_count  \\\n",
       "0     1514614  156908  ...          35313   \n",
       "1     2381688  146739  ...          16549   \n",
       "2     2038853  353787  ...          40221   \n",
       "3      496771   23251  ...           7647   \n",
       "4     1123889   45802  ...           2196   \n",
       "\n",
       "                                   thumbnail_link comments_disabled  \\\n",
       "0  https://i.ytimg.com/vi/3C66w5Z0ixs/default.jpg             False   \n",
       "1  https://i.ytimg.com/vi/M9Pmf9AB4Mo/default.jpg             False   \n",
       "2  https://i.ytimg.com/vi/J78aPJ3VyNs/default.jpg             False   \n",
       "3  https://i.ytimg.com/vi/kXLn3HkpjaA/default.jpg             False   \n",
       "4  https://i.ytimg.com/vi/VIUo6yapDbc/default.jpg             False   \n",
       "\n",
       "   ratings_disabled                                        description  \\\n",
       "0             False  SUBSCRIBE to BRAWADIS ▶ http://bit.ly/Subscrib...   \n",
       "1             False  While running her own modding shop, Ramya Pare...   \n",
       "2             False  I left youtube for a month and this is what ha...   \n",
       "3             False  Subscribe to XXL → http://bit.ly/subscribe-xxl...   \n",
       "4             False  Transforming The LaBrant Family's empty white ...   \n",
       "\n",
       "                       id duration_seconds  has_thumbnail    target  \\\n",
       "0  3C66w5Z0ixs_2020-08-12              NaN           True  0.103596   \n",
       "1  M9Pmf9AB4Mo_2020-08-12              NaN           True  0.061611   \n",
       "2  J78aPJ3VyNs_2020-08-12              NaN           True  0.173523   \n",
       "3  kXLn3HkpjaA_2020-08-12              NaN           True  0.046804   \n",
       "4  VIUo6yapDbc_2020-08-12              NaN           True  0.040753   \n",
       "\n",
       "   cateogory_name  \n",
       "0  People & Blogs  \n",
       "1          Gaming  \n",
       "2   Entertainment  \n",
       "3           Music  \n",
       "4  How to & Style  \n",
       "\n",
       "[5 rows x 21 columns]"
      ]
     },
     "execution_count": 36,
     "metadata": {},
     "output_type": "execute_result"
    }
   ],
   "source": [
    "second_dataset.head(5)"
   ]
  },
  {
   "cell_type": "code",
   "execution_count": 37,
   "id": "9ca9cb44",
   "metadata": {},
   "outputs": [],
   "source": [
    "second_dataset_video_ids = list(second_dataset[\"video_id\"])"
   ]
  },
  {
   "cell_type": "code",
   "execution_count": 38,
   "id": "526666aa",
   "metadata": {},
   "outputs": [
    {
     "data": {
      "text/plain": [
       "92275"
      ]
     },
     "execution_count": 38,
     "metadata": {},
     "output_type": "execute_result"
    }
   ],
   "source": [
    "len(second_dataset_video_ids)"
   ]
  },
  {
   "cell_type": "code",
   "execution_count": 39,
   "id": "c1db9ce0",
   "metadata": {},
   "outputs": [],
   "source": [
    "all_video_ids.extend(second_dataset_video_ids)"
   ]
  },
  {
   "cell_type": "code",
   "execution_count": 42,
   "id": "c630bc1a",
   "metadata": {},
   "outputs": [
    {
     "data": {
      "text/plain": [
       "174105"
      ]
     },
     "execution_count": 42,
     "metadata": {},
     "output_type": "execute_result"
    }
   ],
   "source": [
    "len(all_video_ids)"
   ]
  },
  {
   "cell_type": "code",
   "execution_count": 43,
   "id": "6ccb1349",
   "metadata": {},
   "outputs": [],
   "source": [
    "all_video_list = pd.DataFrame(all_video_ids, columns=[\"video_id\"])"
   ]
  },
  {
   "cell_type": "code",
   "execution_count": 44,
   "id": "419d0610",
   "metadata": {},
   "outputs": [
    {
     "data": {
      "text/plain": [
       "(174105, 1)"
      ]
     },
     "execution_count": 44,
     "metadata": {},
     "output_type": "execute_result"
    }
   ],
   "source": [
    "all_video_list.shape"
   ]
  },
  {
   "cell_type": "code",
   "execution_count": 45,
   "id": "440e2968",
   "metadata": {},
   "outputs": [],
   "source": [
    "all_video_list.drop_duplicates(inplace=True, keep='first')"
   ]
  },
  {
   "cell_type": "code",
   "execution_count": 46,
   "id": "315a7c9c",
   "metadata": {},
   "outputs": [
    {
     "data": {
      "text/plain": [
       "(45481, 1)"
      ]
     },
     "execution_count": 46,
     "metadata": {},
     "output_type": "execute_result"
    }
   ],
   "source": [
    "all_video_list.shape"
   ]
  },
  {
   "cell_type": "code",
   "execution_count": 47,
   "id": "e43d2225",
   "metadata": {},
   "outputs": [],
   "source": [
    "all_video_list.to_csv(\"Videos-Id's.csv\",index=False)"
   ]
  },
  {
   "cell_type": "code",
   "execution_count": null,
   "id": "55574c6c",
   "metadata": {},
   "outputs": [],
   "source": []
  }
 ],
 "metadata": {
  "kernelspec": {
   "display_name": "Python 3 (ipykernel)",
   "language": "python",
   "name": "python3"
  },
  "language_info": {
   "codemirror_mode": {
    "name": "ipython",
    "version": 3
   },
   "file_extension": ".py",
   "mimetype": "text/x-python",
   "name": "python",
   "nbconvert_exporter": "python",
   "pygments_lexer": "ipython3",
   "version": "3.9.0"
  }
 },
 "nbformat": 4,
 "nbformat_minor": 5
}
